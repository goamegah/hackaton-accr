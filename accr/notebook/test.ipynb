{
 "cells": [
  {
   "cell_type": "code",
   "execution_count": 64,
   "metadata": {},
   "outputs": [],
   "source": [
    "from pathlib import Path\n",
    "import pandas as pd\n",
    "import numpy as np\n",
    "from accr.utils.data import train_test_split_custom\n",
    "from accr.data.processing import Processing\n",
    "\n",
    "processing = Processing()"
   ]
  },
  {
   "cell_type": "code",
   "execution_count": 65,
   "metadata": {},
   "outputs": [
    {
     "data": {
      "text/plain": [
       "PosixPath('/home/godwin/Documents/academic/esgi/s1/hackaton/hackaton-accr/dataset')"
      ]
     },
     "execution_count": 65,
     "metadata": {},
     "output_type": "execute_result"
    }
   ],
   "source": [
    "HERE = Path.cwd().parent.parent\n",
    "DATASET_PATH = HERE / 'dataset'\n",
    "DATASET_PATH"
   ]
  },
  {
   "cell_type": "code",
   "execution_count": 66,
   "metadata": {},
   "outputs": [],
   "source": [
    "import sys\n",
    "sys.path.append(str(HERE))"
   ]
  },
  {
   "cell_type": "code",
   "execution_count": 67,
   "metadata": {},
   "outputs": [
    {
     "data": {
      "text/plain": [
       "{'Missing Values': atm      0\n",
       " choc     0\n",
       " surf     0\n",
       " catr     0\n",
       " situ     0\n",
       " manv     0\n",
       " obs      0\n",
       " locp     0\n",
       " plan     0\n",
       " infra    0\n",
       " circ     0\n",
       " secu2    0\n",
       " etatp    0\n",
       " secu3    0\n",
       " obsm     0\n",
       " grav     0\n",
       " vosp     0\n",
       " int      0\n",
       " catv     0\n",
       " secu1    0\n",
       " vma      0\n",
       " prof     0\n",
       " col      0\n",
       " lum      0\n",
       " dtype: int64,\n",
       " 'Constant Features': []}"
      ]
     },
     "execution_count": 67,
     "metadata": {},
     "output_type": "execute_result"
    }
   ],
   "source": [
    "# Récupérer les données\n",
    "train_ds =  pd.read_csv(f'{DATASET_PATH}/preprocessed_data.csv')\n",
    "processing.summary(train_ds)"
   ]
  },
  {
   "cell_type": "code",
   "execution_count": 68,
   "metadata": {},
   "outputs": [
    {
     "data": {
      "text/plain": [
       "{'Missing Values': atm      0\n",
       " choc     0\n",
       " surf     0\n",
       " catr     0\n",
       " situ     0\n",
       " manv     0\n",
       " obs      0\n",
       " locp     0\n",
       " plan     0\n",
       " infra    0\n",
       " circ     0\n",
       " secu2    0\n",
       " etatp    0\n",
       " secu3    0\n",
       " obsm     0\n",
       " grav     0\n",
       " vosp     0\n",
       " int      0\n",
       " catv     0\n",
       " secu1    0\n",
       " vma      0\n",
       " prof     0\n",
       " col      0\n",
       " lum      0\n",
       " dtype: int64,\n",
       " 'Constant Features': []}"
      ]
     },
     "execution_count": 68,
     "metadata": {},
     "output_type": "execute_result"
    }
   ],
   "source": [
    "# Conversion de toutes les colonnes en int, tout en gérant les erreurs pour les colonnes non numériques\n",
    "train_ds = train_ds.apply(pd.to_numeric, errors='coerce')\n",
    "processing.summary(train_ds)"
   ]
  },
  {
   "cell_type": "code",
   "execution_count": 69,
   "metadata": {},
   "outputs": [
    {
     "data": {
      "text/html": [
       "<div>\n",
       "<style scoped>\n",
       "    .dataframe tbody tr th:only-of-type {\n",
       "        vertical-align: middle;\n",
       "    }\n",
       "\n",
       "    .dataframe tbody tr th {\n",
       "        vertical-align: top;\n",
       "    }\n",
       "\n",
       "    .dataframe thead th {\n",
       "        text-align: right;\n",
       "    }\n",
       "</style>\n",
       "<table border=\"1\" class=\"dataframe\">\n",
       "  <thead>\n",
       "    <tr style=\"text-align: right;\">\n",
       "      <th></th>\n",
       "      <th>atm</th>\n",
       "      <th>choc</th>\n",
       "      <th>surf</th>\n",
       "      <th>catr</th>\n",
       "      <th>situ</th>\n",
       "      <th>manv</th>\n",
       "      <th>obs</th>\n",
       "      <th>locp</th>\n",
       "      <th>plan</th>\n",
       "      <th>infra</th>\n",
       "      <th>...</th>\n",
       "      <th>obsm</th>\n",
       "      <th>grav</th>\n",
       "      <th>vosp</th>\n",
       "      <th>int</th>\n",
       "      <th>catv</th>\n",
       "      <th>secu1</th>\n",
       "      <th>vma</th>\n",
       "      <th>prof</th>\n",
       "      <th>col</th>\n",
       "      <th>lum</th>\n",
       "    </tr>\n",
       "  </thead>\n",
       "  <tbody>\n",
       "    <tr>\n",
       "      <th>0</th>\n",
       "      <td>2.0</td>\n",
       "      <td>5.0</td>\n",
       "      <td>2.0</td>\n",
       "      <td>4</td>\n",
       "      <td>1.0</td>\n",
       "      <td>1.0</td>\n",
       "      <td>0.0</td>\n",
       "      <td>0.0</td>\n",
       "      <td>1.0</td>\n",
       "      <td>0.0</td>\n",
       "      <td>...</td>\n",
       "      <td>0.0</td>\n",
       "      <td>4.0</td>\n",
       "      <td>0.0</td>\n",
       "      <td>4.0</td>\n",
       "      <td>30.0</td>\n",
       "      <td>2.0</td>\n",
       "      <td>30.0</td>\n",
       "      <td>1.0</td>\n",
       "      <td>7.0</td>\n",
       "      <td>1.0</td>\n",
       "    </tr>\n",
       "    <tr>\n",
       "      <th>1</th>\n",
       "      <td>2.0</td>\n",
       "      <td>5.0</td>\n",
       "      <td>2.0</td>\n",
       "      <td>4</td>\n",
       "      <td>1.0</td>\n",
       "      <td>1.0</td>\n",
       "      <td>0.0</td>\n",
       "      <td>0.0</td>\n",
       "      <td>1.0</td>\n",
       "      <td>0.0</td>\n",
       "      <td>...</td>\n",
       "      <td>0.0</td>\n",
       "      <td>4.0</td>\n",
       "      <td>0.0</td>\n",
       "      <td>4.0</td>\n",
       "      <td>30.0</td>\n",
       "      <td>2.0</td>\n",
       "      <td>30.0</td>\n",
       "      <td>1.0</td>\n",
       "      <td>7.0</td>\n",
       "      <td>1.0</td>\n",
       "    </tr>\n",
       "    <tr>\n",
       "      <th>2</th>\n",
       "      <td>3.0</td>\n",
       "      <td>1.0</td>\n",
       "      <td>2.0</td>\n",
       "      <td>3</td>\n",
       "      <td>1.0</td>\n",
       "      <td>1.0</td>\n",
       "      <td>0.0</td>\n",
       "      <td>0.0</td>\n",
       "      <td>1.0</td>\n",
       "      <td>0.0</td>\n",
       "      <td>...</td>\n",
       "      <td>1.0</td>\n",
       "      <td>1.0</td>\n",
       "      <td>2.0</td>\n",
       "      <td>1.0</td>\n",
       "      <td>7.0</td>\n",
       "      <td>1.0</td>\n",
       "      <td>50.0</td>\n",
       "      <td>1.0</td>\n",
       "      <td>6.0</td>\n",
       "      <td>5.0</td>\n",
       "    </tr>\n",
       "    <tr>\n",
       "      <th>3</th>\n",
       "      <td>3.0</td>\n",
       "      <td>1.0</td>\n",
       "      <td>2.0</td>\n",
       "      <td>3</td>\n",
       "      <td>1.0</td>\n",
       "      <td>1.0</td>\n",
       "      <td>0.0</td>\n",
       "      <td>2.0</td>\n",
       "      <td>1.0</td>\n",
       "      <td>0.0</td>\n",
       "      <td>...</td>\n",
       "      <td>1.0</td>\n",
       "      <td>3.0</td>\n",
       "      <td>2.0</td>\n",
       "      <td>1.0</td>\n",
       "      <td>7.0</td>\n",
       "      <td>0.0</td>\n",
       "      <td>50.0</td>\n",
       "      <td>1.0</td>\n",
       "      <td>6.0</td>\n",
       "      <td>5.0</td>\n",
       "    </tr>\n",
       "    <tr>\n",
       "      <th>4</th>\n",
       "      <td>2.0</td>\n",
       "      <td>1.0</td>\n",
       "      <td>2.0</td>\n",
       "      <td>3</td>\n",
       "      <td>1.0</td>\n",
       "      <td>16.0</td>\n",
       "      <td>0.0</td>\n",
       "      <td>0.0</td>\n",
       "      <td>1.0</td>\n",
       "      <td>5.0</td>\n",
       "      <td>...</td>\n",
       "      <td>2.0</td>\n",
       "      <td>3.0</td>\n",
       "      <td>0.0</td>\n",
       "      <td>3.0</td>\n",
       "      <td>2.0</td>\n",
       "      <td>2.0</td>\n",
       "      <td>50.0</td>\n",
       "      <td>1.0</td>\n",
       "      <td>1.0</td>\n",
       "      <td>1.0</td>\n",
       "    </tr>\n",
       "  </tbody>\n",
       "</table>\n",
       "<p>5 rows × 24 columns</p>\n",
       "</div>"
      ],
      "text/plain": [
       "   atm  choc  surf  catr  situ  manv  obs  locp  plan  infra  ...  obsm  grav  \\\n",
       "0  2.0   5.0   2.0     4   1.0   1.0  0.0   0.0   1.0    0.0  ...   0.0   4.0   \n",
       "1  2.0   5.0   2.0     4   1.0   1.0  0.0   0.0   1.0    0.0  ...   0.0   4.0   \n",
       "2  3.0   1.0   2.0     3   1.0   1.0  0.0   0.0   1.0    0.0  ...   1.0   1.0   \n",
       "3  3.0   1.0   2.0     3   1.0   1.0  0.0   2.0   1.0    0.0  ...   1.0   3.0   \n",
       "4  2.0   1.0   2.0     3   1.0  16.0  0.0   0.0   1.0    5.0  ...   2.0   3.0   \n",
       "\n",
       "   vosp  int  catv  secu1   vma  prof  col  lum  \n",
       "0   0.0  4.0  30.0    2.0  30.0   1.0  7.0  1.0  \n",
       "1   0.0  4.0  30.0    2.0  30.0   1.0  7.0  1.0  \n",
       "2   2.0  1.0   7.0    1.0  50.0   1.0  6.0  5.0  \n",
       "3   2.0  1.0   7.0    0.0  50.0   1.0  6.0  5.0  \n",
       "4   0.0  3.0   2.0    2.0  50.0   1.0  1.0  1.0  \n",
       "\n",
       "[5 rows x 24 columns]"
      ]
     },
     "execution_count": 69,
     "metadata": {},
     "output_type": "execute_result"
    }
   ],
   "source": [
    "train_ds.head()"
   ]
  },
  {
   "cell_type": "code",
   "execution_count": 70,
   "metadata": {},
   "outputs": [
    {
     "data": {
      "text/plain": [
       "atm      float64\n",
       "choc     float64\n",
       "surf     float64\n",
       "catr       int64\n",
       "situ     float64\n",
       "manv     float64\n",
       "obs      float64\n",
       "locp     float64\n",
       "plan     float64\n",
       "infra    float64\n",
       "circ     float64\n",
       "secu2    float64\n",
       "etatp    float64\n",
       "secu3    float64\n",
       "obsm     float64\n",
       "grav     float64\n",
       "vosp     float64\n",
       "int      float64\n",
       "catv     float64\n",
       "secu1    float64\n",
       "vma      float64\n",
       "prof     float64\n",
       "col      float64\n",
       "lum      float64\n",
       "dtype: object"
      ]
     },
     "execution_count": 70,
     "metadata": {},
     "output_type": "execute_result"
    }
   ],
   "source": [
    "train_ds.dtypes"
   ]
  },
  {
   "cell_type": "code",
   "execution_count": 71,
   "metadata": {},
   "outputs": [],
   "source": [
    "import torch"
   ]
  },
  {
   "cell_type": "code",
   "execution_count": null,
   "metadata": {},
   "outputs": [],
   "source": [
    "# Split data\n",
    "y = train_ds['grav']\n",
    "y = y - 1\n",
    "X = train_ds.drop(columns=['grav'])\n",
    "\n",
    "\n",
    "\n",
    "X_train, X_test, y_train, y_test = train_test_split_custom(X, y, test_size=0.2, random_state=42)\n",
    "X_train = (X_train - np.mean(X_train)) / np.std(X_train, axis=0)\n",
    "X_test = (X_test - np.mean(X_train)) / np.std(X_train, axis=0)\n",
    "\n",
    "\n",
    "# Convert to tensor\n",
    "X_train = torch.tensor(X_train.values, dtype=torch.float32)\n",
    "X_test = torch.tensor(X_test.values, dtype=torch.float32)\n",
    "y_train = torch.tensor(y_train.values, dtype=torch.long)\n",
    "y_test = torch.tensor(y_test.values, dtype=torch.long)"
   ]
  },
  {
   "cell_type": "code",
   "execution_count": 73,
   "metadata": {},
   "outputs": [
    {
     "name": "stdout",
     "output_type": "stream",
     "text": [
      "tensor(False) tensor(False)\n",
      "tensor(False) tensor(False)\n"
     ]
    }
   ],
   "source": [
    "# Vérification des NaN et des infinis\n",
    "print(torch.isnan(X_train).any(), torch.isinf(X_train).any())  # Vérifier dans X_train\n",
    "print(torch.isnan(X_test).any(), torch.isinf(X_test).any())    # Vérifier dans X_test\n"
   ]
  },
  {
   "cell_type": "code",
   "execution_count": 77,
   "metadata": {},
   "outputs": [],
   "source": [
    "from collections import Counter\n"
   ]
  },
  {
   "cell_type": "code",
   "execution_count": 78,
   "metadata": {},
   "outputs": [
    {
     "data": {
      "text/plain": [
       "Counter({np.int64(0): 56671,\n",
       "         np.int64(3): 51947,\n",
       "         np.int64(2): 19113,\n",
       "         np.int64(1): 3090})"
      ]
     },
     "execution_count": 78,
     "metadata": {},
     "output_type": "execute_result"
    }
   ],
   "source": [
    "Counter(y_train.numpy())"
   ]
  },
  {
   "cell_type": "code",
   "execution_count": 74,
   "metadata": {},
   "outputs": [
    {
     "data": {
      "text/plain": [
       "tensor([0, 1, 2, 3])"
      ]
     },
     "execution_count": 74,
     "metadata": {},
     "output_type": "execute_result"
    }
   ],
   "source": [
    "torch.unique(y_train)"
   ]
  },
  {
   "cell_type": "code",
   "execution_count": 75,
   "metadata": {},
   "outputs": [
    {
     "data": {
      "text/plain": [
       "array([0., 1., 2., 3.])"
      ]
     },
     "execution_count": 75,
     "metadata": {},
     "output_type": "execute_result"
    }
   ],
   "source": [
    "np.unique(y)"
   ]
  },
  {
   "cell_type": "code",
   "execution_count": 76,
   "metadata": {},
   "outputs": [
    {
     "data": {
      "text/plain": [
       "array([-1.,  0.,  1.,  2.])"
      ]
     },
     "execution_count": 76,
     "metadata": {},
     "output_type": "execute_result"
    }
   ],
   "source": [
    "y = y - 1\n",
    "np.unique(y)"
   ]
  },
  {
   "cell_type": "code",
   "execution_count": null,
   "metadata": {},
   "outputs": [],
   "source": []
  }
 ],
 "metadata": {
  "kernelspec": {
   "display_name": "accr-env",
   "language": "python",
   "name": "python3"
  },
  "language_info": {
   "codemirror_mode": {
    "name": "ipython",
    "version": 3
   },
   "file_extension": ".py",
   "mimetype": "text/x-python",
   "name": "python",
   "nbconvert_exporter": "python",
   "pygments_lexer": "ipython3",
   "version": "3.10.13"
  }
 },
 "nbformat": 4,
 "nbformat_minor": 2
}
